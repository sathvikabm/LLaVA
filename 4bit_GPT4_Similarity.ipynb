{
  "nbformat": 4,
  "nbformat_minor": 0,
  "metadata": {
    "colab": {
      "provenance": []
    },
    "kernelspec": {
      "name": "python3",
      "display_name": "Python 3"
    },
    "language_info": {
      "name": "python"
    }
  },
  "cells": [
    {
      "cell_type": "code",
      "source": [
        "pip install sentence-transformers"
      ],
      "metadata": {
        "colab": {
          "base_uri": "https://localhost:8080/"
        },
        "id": "OAb04J2olKym",
        "outputId": "6db0dc66-eac6-4a33-94e4-102c470ab33e"
      },
      "execution_count": 2,
      "outputs": [
        {
          "output_type": "stream",
          "name": "stdout",
          "text": [
            "Collecting sentence-transformers\n",
            "  Downloading sentence-transformers-2.2.2.tar.gz (85 kB)\n",
            "\u001b[2K     \u001b[90m━━━━━━━━━━━━━━━━━━━━━━━━━━━━━━━━━━━━━━━━\u001b[0m \u001b[32m86.0/86.0 kB\u001b[0m \u001b[31m1.3 MB/s\u001b[0m eta \u001b[36m0:00:00\u001b[0m\n",
            "\u001b[?25h  Preparing metadata (setup.py) ... \u001b[?25l\u001b[?25hdone\n",
            "Requirement already satisfied: transformers<5.0.0,>=4.6.0 in /usr/local/lib/python3.10/dist-packages (from sentence-transformers) (4.35.2)\n",
            "Requirement already satisfied: tqdm in /usr/local/lib/python3.10/dist-packages (from sentence-transformers) (4.66.1)\n",
            "Requirement already satisfied: torch>=1.6.0 in /usr/local/lib/python3.10/dist-packages (from sentence-transformers) (2.1.0+cu121)\n",
            "Requirement already satisfied: torchvision in /usr/local/lib/python3.10/dist-packages (from sentence-transformers) (0.16.0+cu121)\n",
            "Requirement already satisfied: numpy in /usr/local/lib/python3.10/dist-packages (from sentence-transformers) (1.23.5)\n",
            "Requirement already satisfied: scikit-learn in /usr/local/lib/python3.10/dist-packages (from sentence-transformers) (1.2.2)\n",
            "Requirement already satisfied: scipy in /usr/local/lib/python3.10/dist-packages (from sentence-transformers) (1.11.4)\n",
            "Requirement already satisfied: nltk in /usr/local/lib/python3.10/dist-packages (from sentence-transformers) (3.8.1)\n",
            "Collecting sentencepiece (from sentence-transformers)\n",
            "  Downloading sentencepiece-0.1.99-cp310-cp310-manylinux_2_17_x86_64.manylinux2014_x86_64.whl (1.3 MB)\n",
            "\u001b[2K     \u001b[90m━━━━━━━━━━━━━━━━━━━━━━━━━━━━━━━━━━━━━━━━\u001b[0m \u001b[32m1.3/1.3 MB\u001b[0m \u001b[31m8.9 MB/s\u001b[0m eta \u001b[36m0:00:00\u001b[0m\n",
            "\u001b[?25hRequirement already satisfied: huggingface-hub>=0.4.0 in /usr/local/lib/python3.10/dist-packages (from sentence-transformers) (0.19.4)\n",
            "Requirement already satisfied: filelock in /usr/local/lib/python3.10/dist-packages (from huggingface-hub>=0.4.0->sentence-transformers) (3.13.1)\n",
            "Requirement already satisfied: fsspec>=2023.5.0 in /usr/local/lib/python3.10/dist-packages (from huggingface-hub>=0.4.0->sentence-transformers) (2023.6.0)\n",
            "Requirement already satisfied: requests in /usr/local/lib/python3.10/dist-packages (from huggingface-hub>=0.4.0->sentence-transformers) (2.31.0)\n",
            "Requirement already satisfied: pyyaml>=5.1 in /usr/local/lib/python3.10/dist-packages (from huggingface-hub>=0.4.0->sentence-transformers) (6.0.1)\n",
            "Requirement already satisfied: typing-extensions>=3.7.4.3 in /usr/local/lib/python3.10/dist-packages (from huggingface-hub>=0.4.0->sentence-transformers) (4.5.0)\n",
            "Requirement already satisfied: packaging>=20.9 in /usr/local/lib/python3.10/dist-packages (from huggingface-hub>=0.4.0->sentence-transformers) (23.2)\n",
            "Requirement already satisfied: sympy in /usr/local/lib/python3.10/dist-packages (from torch>=1.6.0->sentence-transformers) (1.12)\n",
            "Requirement already satisfied: networkx in /usr/local/lib/python3.10/dist-packages (from torch>=1.6.0->sentence-transformers) (3.2.1)\n",
            "Requirement already satisfied: jinja2 in /usr/local/lib/python3.10/dist-packages (from torch>=1.6.0->sentence-transformers) (3.1.2)\n",
            "Requirement already satisfied: triton==2.1.0 in /usr/local/lib/python3.10/dist-packages (from torch>=1.6.0->sentence-transformers) (2.1.0)\n",
            "Requirement already satisfied: regex!=2019.12.17 in /usr/local/lib/python3.10/dist-packages (from transformers<5.0.0,>=4.6.0->sentence-transformers) (2023.6.3)\n",
            "Requirement already satisfied: tokenizers<0.19,>=0.14 in /usr/local/lib/python3.10/dist-packages (from transformers<5.0.0,>=4.6.0->sentence-transformers) (0.15.0)\n",
            "Requirement already satisfied: safetensors>=0.3.1 in /usr/local/lib/python3.10/dist-packages (from transformers<5.0.0,>=4.6.0->sentence-transformers) (0.4.1)\n",
            "Requirement already satisfied: click in /usr/local/lib/python3.10/dist-packages (from nltk->sentence-transformers) (8.1.7)\n",
            "Requirement already satisfied: joblib in /usr/local/lib/python3.10/dist-packages (from nltk->sentence-transformers) (1.3.2)\n",
            "Requirement already satisfied: threadpoolctl>=2.0.0 in /usr/local/lib/python3.10/dist-packages (from scikit-learn->sentence-transformers) (3.2.0)\n",
            "Requirement already satisfied: pillow!=8.3.*,>=5.3.0 in /usr/local/lib/python3.10/dist-packages (from torchvision->sentence-transformers) (9.4.0)\n",
            "Requirement already satisfied: MarkupSafe>=2.0 in /usr/local/lib/python3.10/dist-packages (from jinja2->torch>=1.6.0->sentence-transformers) (2.1.3)\n",
            "Requirement already satisfied: charset-normalizer<4,>=2 in /usr/local/lib/python3.10/dist-packages (from requests->huggingface-hub>=0.4.0->sentence-transformers) (3.3.2)\n",
            "Requirement already satisfied: idna<4,>=2.5 in /usr/local/lib/python3.10/dist-packages (from requests->huggingface-hub>=0.4.0->sentence-transformers) (3.6)\n",
            "Requirement already satisfied: urllib3<3,>=1.21.1 in /usr/local/lib/python3.10/dist-packages (from requests->huggingface-hub>=0.4.0->sentence-transformers) (2.0.7)\n",
            "Requirement already satisfied: certifi>=2017.4.17 in /usr/local/lib/python3.10/dist-packages (from requests->huggingface-hub>=0.4.0->sentence-transformers) (2023.11.17)\n",
            "Requirement already satisfied: mpmath>=0.19 in /usr/local/lib/python3.10/dist-packages (from sympy->torch>=1.6.0->sentence-transformers) (1.3.0)\n",
            "Building wheels for collected packages: sentence-transformers\n",
            "  Building wheel for sentence-transformers (setup.py) ... \u001b[?25l\u001b[?25hdone\n",
            "  Created wheel for sentence-transformers: filename=sentence_transformers-2.2.2-py3-none-any.whl size=125923 sha256=0667738d21425993c4393226d6aa1beacb5b52a839bc78381db891709f7a0db7\n",
            "  Stored in directory: /root/.cache/pip/wheels/62/f2/10/1e606fd5f02395388f74e7462910fe851042f97238cbbd902f\n",
            "Successfully built sentence-transformers\n",
            "Installing collected packages: sentencepiece, sentence-transformers\n",
            "Successfully installed sentence-transformers-2.2.2 sentencepiece-0.1.99\n"
          ]
        }
      ]
    },
    {
      "cell_type": "code",
      "execution_count": 6,
      "metadata": {
        "colab": {
          "base_uri": "https://localhost:8080/"
        },
        "id": "XpkIQV9YlDb-",
        "outputId": "04d398f5-755b-42e1-86ff-ea32bafcc1f0"
      },
      "outputs": [
        {
          "output_type": "execute_result",
          "data": {
            "text/plain": [
              "(0.6724562,\n",
              " 0.97335935,\n",
              " 0.4932226,\n",
              " 0.15176937,\n",
              " [0.60776,\n",
              "  0.7383174,\n",
              "  0.97335935,\n",
              "  0.71193945,\n",
              "  0.831651,\n",
              "  0.8396691,\n",
              "  0.61441433,\n",
              "  0.56463194,\n",
              "  0.5008677,\n",
              "  0.5211847,\n",
              "  0.4932226])"
            ]
          },
          "metadata": {},
          "execution_count": 6
        }
      ],
      "source": [
        "from sklearn.metrics.pairwise import cosine_similarity\n",
        "from sentence_transformers import SentenceTransformer\n",
        "import numpy as np\n",
        "\n",
        "# Descriptions from the two models for each of the 11 images\n",
        "descriptions_4bit = [\n",
        "    \"The image features a graph displaying the pressure of he3 gas in a main chamber. The graph shows the pressure in the main chamber at different times of the day, with the time of day indicated on the x-axis and the pressure on the y-axis. The graph is divided into three sections, each representing a different time of the day. The first section, from 0 to 12 hours, shows the pressure at the beginning of the day. The second section, from 12 to 24 hours, shows the pressure during the day. The third section, from 24 to 48 hours, shows the pressure at the end of the day. The graph provides a visual representation of the pressure changes throughout the day.\",\n",
        "    \"The image features a graph with a line that appears to be a mole curve. The graph is labeled with various terms, such as moles, mass, charge, time, and electrolyte area. The line on the graph seems to be a time-mole curve, indicating the relationship between the number of moles and the time. The graph also includes a reference to electrolyte area and electrolyte mass, suggesting that the graph is related to electrolyte charging potential.\",\n",
        "    \"The image features a graph displaying the effect of thermal treatment on hydrogen loading. The graph shows a significant increase in hydrogen loading as the temperature rises. The temperature is measured in degrees Celsius, and the hydrogen loading is shown on the y-axis. The graph is divided into three sections, with each section showing a different temperature range. The data is presented in a clear and organized manner, making it easy to understand the relationship between thermal treatment and hydrogen loading.\",\n",
        "    \"The image is a graph showing the results of an experiment using two different types of rods. The graph displays the data collected during the experiment, which took place in October and November 1994. The experiment appears to be focused on measuring the maximum power output of the rods, as indicated by the graph's title. The graph shows the power output in watts, with the x-axis representing time and the y-axis representing the power output. The data is presented in a clear and organized manner, making it easy to understand the results of the experiment.\",\n",
        "    \"The image features a graph with several chemical elements labeled on it. The graph shows the concentration of these elements, with the x-axis representing the depth and the y-axis representing the concentration. The chemical elements are labeled with their respective symbols, such as Au, Ce, and W. The graph is divided into several sections, each representing a different depth profile of the chemical elements. The labels and the graph provides a clear visual representation of the concentration of these elements at various depths\",\n",
        "    \"The image features a graph displaying the concentration of a substance over time. The graph shows a steady increase in the concentration of the substance, with the curve starting at zero and reaching a peak at around 1.0 mKno3. The graph is labeled with the equation for the lower bound of K, which is a measure of the concentration of the substance. The time scale is displayed on the bottom of the graph, indicating that the concentration is being measured over a period of time.\",\n",
        "    \"The image features a graph displaying the average DPD (dipropylene) ratio for various times of electrolysis. The graph is divided into two sections, with the left side showing the DPD ratio for the first initiation and the right side showing the DPD ratio for the second initiation. The graph is color-coded, with blue representing the DPD ratio and red representing the time of electrolysis.  There are several data points on the graph, indicating the DPD ratio for different time intervals. The data points are scattered across the graph, with some closer to the left side and others near the right side. The graph provides a visual representation of the relationship between the DPD ratio and the time of electrolysis, allowing for a better understanding of the process.\",\n",
        "    \"The image features a graph with a line that shows the energy output of a system. The graph is labeled with various terms, such as NiNiHX, NiNiDX, PdPd, PdDX, NiNiHX+Additive, NiNiHX+Zero Excess, and PdPd+Additive. There are also several points on the graph, indicating different energy levels or outputs. The graph is likely used to display the performance of a system or to analyze its energy efficiency.\",\n",
        "    \"The image features a graph displaying the environmental cooling curve for a new calorie (heat transfer by conduction). The graph shows the temperature change over time, with the x-axis representing time and the y-axis representing temperature. The curve starts at zero degrees Celsius and gradually increases to a peak, then gradually decreases back to zero degrees Celsius. The graph is labeled with the time in minutes, indicating that the temperature change occurs over a period of 10 minutes.\",\n",
        "    \"The image features a graph displaying the energy levels of a system before and after a process. The graph shows a significant change in energy levels, with the energy level dropping after the process. The graph is labeled with various elements, such as Pd, Cr, Fe, Cu, and Pt, indicating the presence of these elements in the system. The graph also includes a line labeled energy/keV to show the energy levels in units of kiloelectron volts (keV).\",\n",
        "    \"The image features a graph displaying the pressure and heater power with the in-cell reactor at 60 W input. The graph shows three temperature readings, with the first temperature reading at 100 degrees Celsius, the second at 120 degrees Celsius, and the third at 140 degrees Celsius. The graph also includes a time axis, indicating the duration of the test. The purpose of this graph is to demonstrate the relationship between pressure and heater power in the context of the in-cell reactor.\",\n",
        "    ]\n",
        "\n",
        "descriptions_gpt4 = [\n",
        "    \"The image displays a graph showing the dependence of pressure in LPCV (Liquid Phase Catalytic Vaporizer) over time. The graph is divided into two sections, with the first section showing the pressure in the main chamber and the second section showing the pressure in the initial degassing chamber. The pressure in the main chamber is higher than the pressure in the initial degassing chamber, indicating that the pressure is being reduced over time. The graph also shows the time for constant pressure in the main chamber, which is around 30 minutes.\",\n",
        "    \"The image features a graph with a line that appears to be a slope, possibly representing a charging curve for a battery. The graph is labeled with various terms, including time,charge, and discharge. The slope of the line suggests that the battery is being charged, and the curve may indicate the rate at which the battery is being charged. The graph is likely used to analyze the performance and efficiency of the battery during charging and discharging processes.\",\n",
        "    \"The image displays a graph showing the effect of thermal treatment on hydrogen loading. The graph is divided into three sections, each with a different temperature range. The temperature ranges are labeled as 700°C, 800°C, and 900°C, with corresponding temperature values displayed on the graph. The graph also includes a horizontal line indicating the hydrogen loading. The data is presented in a clear and organized manner, making it easy to understand the relationship between thermal treatment and hydrogen loading.\",\n",
        "    \"The image displays a graph showing the results of a second experiment using the same NRPB-rod cell. The graph is a line graph with a time axis on the bottom and a voltage axis on the left side. The data is plotted in a series of points, indicating the voltage levels at different time intervals. The graph captures the performance of the cell over time, providing valuable information for further analysis and understanding of the experiment's results.\",\n",
        "    \"The image is a graph displaying the concentration of various chemical elements in an accumulating screen. The graph shows the concentration of gold (Au), silver (Ag), and other elements over time. The graph is divided into three sections, each representing a different concentration level. The first section, from 0 to 10, shows the concentration of gold, while the second section, from 10 to 15, displays the concentration of silver. The third section, from 10 to 100, shows the concentration of other elements. The graph provides a visual representation of the distribution and accumulation of these chemical elements over time.\",\n",
        "    \"The image features a graph displaying the concentration of various substances over time. The graph shows the levels of Pd, PdO, KNO3, and K2PtCl6, with each substance represented by a different colored line. The graph is labeled with the names of the substances and the time scale, indicating that the measurements were taken over a period of 30 minutes. The graph provides a visual representation of the changes in concentration for these substances during the observed time frame.\",\n",
        "    \"The image displays a graph with two blue lines and one red line, each representing a different variable. The blue lines are showing the loading and unloading times of a process, while the red line represents the time it takes to initiate the process. The graph is divided into two sections, with the first section showing the loading times and the second section showing the unloading times. The data is presented in a clear and organized manner, making it easy to understand the relationship between the variables.\",\n",
        "    \"The image features a graph displaying the experimental cooling curve for a new calorimeter. The graph shows the temperature of the calorimeter over time, with the x-axis representing time and the y-axis representing temperature. The curve starts at 50 degrees Celsius and gradually decreases to 20 degrees Celsius over the course of 120 minutes. The red line on the graph represents the cooling curve, while the blue line represents the heat transfer by conduction. The graph provides a visual representation of the cooling process and the efficiency of the calorimeter.\",\n",
        "    \"The image features a graph with several lines on it, showcasing the energy output of different wires. The graph is divided into four sections, each representing a different type of wire. The wires are labeled with their respective names, including NINOX, NINIDX, PDX, and PDX. There are multiple points on the graph, indicating the energy output of each wire. The points are scattered across the graph, with some closer to the top and others near the bottom. The graph provides a clear visual representation of the energy output of the wires, allowing for easy comparison between them.\",\n",
        "    \"The image features a graph displaying the temperature and pressure of a system. The graph shows a temperature range from 0 to 100 degrees Celsius, with the temperature on the left side and the pressure on the right side. The pressure is measured in units of Pascals (Pa). There are three distinct temperature lines on the graph, each representing a different temperature. The first temperature line is at 0 degrees Celsius, the second is at 30 degrees Celsius, and the third is at 100 degrees Celsius. The pressure values are also shown for each of these temperature lines, providing a clear visual representation of the relationship between temperature and pressure in the system.\",\n",
        "    \"The image is a graph showing the energy levels of a system before and after a process. The graph displays a curve with a sharp drop, indicating a significant change in energy levels. The curve is labeled with various elements, such as Fe, Cu, and Pd, which are likely related to the process taking place. The graph also includes a time axis, allowing for a better understanding of the changes in energy levels over time.\",\n",
        "    ]\n",
        "\n",
        "# Initialize the sentence transformer model for embeddings\n",
        "model = SentenceTransformer(\"all-MiniLM-L6-v2\")\n",
        "\n",
        "# Compute embeddings for each set of descriptions\n",
        "embeddings_4bit = model.encode(descriptions_4bit)\n",
        "embeddings_gpt4 = model.encode(descriptions_gpt4)\n",
        "\n",
        "# Calculate cosine similarity between corresponding pairs\n",
        "similarities = [\n",
        "    cosine_similarity([embeddings_4bit[i]], [embeddings_gpt4[i]])[0][0]\n",
        "    for i in range(len(descriptions_4bit))\n",
        "]\n",
        "\n",
        "# Calculate average similarity, max, min, and standard deviation\n",
        "average_similarity = np.mean(similarities)\n",
        "max_similarity = np.max(similarities)\n",
        "min_similarity = np.min(similarities)\n",
        "std_deviation = np.std(similarities)\n",
        "\n",
        "average_similarity, max_similarity, min_similarity, std_deviation, similarities\n"
      ]
    }
  ]
}